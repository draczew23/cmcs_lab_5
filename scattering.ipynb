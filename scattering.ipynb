{
 "cells": [
  {
   "cell_type": "markdown",
   "metadata": {},
   "source": [
    "# Task 1"
   ]
  },
  {
   "cell_type": "code",
   "execution_count": 51,
   "metadata": {},
   "outputs": [],
   "source": [
    "import numpy as np\n",
    "import matplotlib.pyplot as plt\n",
    "from matplotlib import cm\n",
    "import scipy.special\n",
    "import math\n",
    "import scipy.constants as const\n",
    "# import scipy.constants.physical_constants"
   ]
  },
  {
   "cell_type": "code",
   "execution_count": 52,
   "metadata": {},
   "outputs": [],
   "source": [
    "def V_total(R):\n",
    "    return D_e * ((R_e / R) ** 12 - 2 * (R_e / R) ** 6)\n",
    "\n",
    "\n",
    "def calc_k_squared(R, E, mu):\n",
    "    return (2 * mu / h_dash) * (E - V_total(R))\n",
    "\n",
    "\n",
    "def reduced_mass(m1, m2):\n",
    "    return (m1 * m2) / (m1 + m2)\n",
    "\n",
    "\n",
    "def F_calc(h, k_n_squared, k_n_plus1_squared, k_n_minus1_squared, F_minus_1):\n",
    "    return (2 * (1 - 5 * h ** 2 * k_n_squared / 12) - (1 + h ** 2 * k_n_minus1_squared / 12) / F_minus_1) / (1 + h ** 2 * k_n_plus1_squared / 12)\n",
    "\n",
    "\n",
    "def F_calc_first(h, k_n_squared, k_n_plus1_squared):\n",
    "    return (2 * (1 - 5 * h ** 2 * k_n_squared / 12)) / (1 + h ** 2 * k_n_plus1_squared / 12)\n",
    "\n"
   ]
  },
  {
   "cell_type": "code",
   "execution_count": 58,
   "metadata": {},
   "outputs": [
    {
     "name": "stdout",
     "output_type": "stream",
     "text": [
      "0.0012623391106030345\n",
      "3.1669999999999995e-09\n",
      "315775.02480407\n"
     ]
    }
   ],
   "source": [
    "# initial parameters\n",
    "\n",
    "h_dash = 1\n",
    "m_e = h_dash\n",
    "k_b = const.Boltzmann\n",
    "\n",
    "physical_constants = const.physical_constants\n",
    "hartree_kelvin = physical_constants['hartree-kelvin relationship']\n",
    "\n",
    "# all those variables in atomic units a.u\n",
    "\n",
    "u = 1822.888\n",
    "m_39K = 38.963707 * u\n",
    "m_40K = 39.963999 * u\n",
    "m_41K = 40.961825 * u\n",
    "\n",
    "D_e = 0.0011141\n",
    "R_e = 10.98\n",
    "\n",
    "# lets try initial energy 0\n",
    "E_init = 0\n",
    "R_min = 9.45     # initial distance; for this value of R_min V(R_min) is almost equal to D_e\n",
    "R_max = 12\n",
    "\n",
    "mu = reduced_mass(m_39K, m_40K)\n",
    "k_Re = np.sqrt(calc_k_squared(R_e, E_init, mu)) # we set E = 0, it doesn't depend at all\n",
    "k_Re_sqr = k_Re ** 2\n",
    "\n",
    "lambda_max = 1/ 50 * (2 * np.pi / k_Re) # length of the De Brogile wave\n",
    "dR = lambda_max # our step\n",
    "\n",
    "R_ar = np.arange(R_min, R_max, dR)\n",
    "\n",
    "temp1 = 1E-9\n",
    "temp2 = 1E-3\n",
    "# from 100 nK to 1 mK energies\n",
    "temperatures_K = np.linspace(temp1, temp2, len(R_ar))\n",
    "\n",
    "val = 3.167 * 10 ** (-6)\n",
    "energies_in_temps_au = temperatures_K * val # test it\n",
    "\n",
    "# phi_zero is zero\n",
    "psi_zero = 0\n",
    "\n",
    "h = dR\n",
    "\n",
    "# k = calc_k_squared(R_ar, energies_in_temps_au, mu)\n",
    "# # print(len(k))\n",
    "# # k_1\n",
    "# # k_1\n",
    "# F_1 = 0\n",
    "# F_2 = F_calc_first(h, k[2], k[3])\n",
    "\n",
    "# print(F_2)\n",
    "# # F_ar = np.zeros(1)\n",
    "# # np.append(F_ar, 1)\n",
    "\n",
    "\n",
    "# # print(energies_in_temps_au)\n",
    "# # len(energies_in_temps_au)\n",
    "\n",
    "# # print(R_ar)\n",
    "\n",
    "test = V_total(9.45)\n",
    "# print(D_e)\n",
    "print(test)\n",
    "print(energies_in_temps_au[len(energies_in_temps_au) -1])\n",
    "# print(len(R_ar))\n",
    "\n",
    "# R_ar_len = len(R_ar)\n",
    "\n",
    "# for i in range(R_ar_len):\n",
    "#     print(i, V_total(R_ar[i]), energies_in_temps_au[i])\n",
    "\n",
    "print(hartree_kelvin[0])"
   ]
  }
 ],
 "metadata": {
  "interpreter": {
   "hash": "bc0ab7a0a7955a602fe482a24b42dcde327bf84a93fc5be766be7539488a2b62"
  },
  "kernelspec": {
   "display_name": "Python 3.9.6 64-bit ('spyder': conda)",
   "language": "python",
   "name": "python3"
  },
  "language_info": {
   "codemirror_mode": {
    "name": "ipython",
    "version": 3
   },
   "file_extension": ".py",
   "mimetype": "text/x-python",
   "name": "python",
   "nbconvert_exporter": "python",
   "pygments_lexer": "ipython3",
   "version": "3.8.8"
  },
  "orig_nbformat": 4
 },
 "nbformat": 4,
 "nbformat_minor": 2
}
